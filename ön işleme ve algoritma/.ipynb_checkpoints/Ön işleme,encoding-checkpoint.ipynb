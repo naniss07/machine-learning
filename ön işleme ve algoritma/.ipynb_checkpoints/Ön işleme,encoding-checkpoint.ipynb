{
 "cells": [
  {
   "cell_type": "code",
   "execution_count": 49,
   "id": "83bbe079",
   "metadata": {},
   "outputs": [],
   "source": [
    "import pandas as pd\n",
    "import numpy as np\n",
    "import matplotlib.pyplot as plt\n",
    "%matplotlib inline\n",
    "import seaborn as sns\n",
    "\n"
   ]
  },
  {
   "cell_type": "code",
   "execution_count": 2,
   "id": "52af4948",
   "metadata": {},
   "outputs": [],
   "source": [
    "data = pd.read_csv(\"ev_emlakjet_data.csv\" , encoding='utf-8')"
   ]
  },
  {
   "cell_type": "code",
   "execution_count": 3,
   "id": "1916c445",
   "metadata": {},
   "outputs": [],
   "source": [
    "df = pd.DataFrame()"
   ]
  },
  {
   "cell_type": "code",
   "execution_count": 4,
   "id": "faca712d",
   "metadata": {},
   "outputs": [
    {
     "name": "stdout",
     "output_type": "stream",
     "text": [
      "<class 'pandas.core.frame.DataFrame'>\n",
      "RangeIndex: 610 entries, 0 to 609\n",
      "Data columns (total 64 columns):\n",
      " #   Column                         Non-Null Count  Dtype  \n",
      "---  ------                         --------------  -----  \n",
      " 0   Ada                            4 non-null      float64\n",
      " 1   Aidat                          38 non-null     object \n",
      " 2   Balkon Durumu                  151 non-null    object \n",
      " 3   Balkon Metrekare               12 non-null     object \n",
      " 4   Balkon SayÄ±sÄ±                1 non-null      float64\n",
      " 5   Balkon Sayısı                  89 non-null     object \n",
      " 6   Balkon Tipi                    47 non-null     object \n",
      " 7   Banyo Metrekare                15 non-null     object \n",
      " 8   Banyo SayÄ±sÄ±                 3 non-null      float64\n",
      " 9   Banyo Sayısı                   452 non-null    float64\n",
      " 10  BinanÄ±n Kat SayÄ±sÄ±          3 non-null      float64\n",
      " 11  BinanÄ±n YaÅŸÄ±                3 non-null      object \n",
      " 12  Binanın Kat Sayısı             452 non-null    float64\n",
      " 13  Binanın Yaşı                   452 non-null    object \n",
      " 14  BrÃ¼t Metrekare                3 non-null      object \n",
      " 15  Brüt Metrekare                 452 non-null    object \n",
      " 16  BulunduÄŸu Kat                 3 non-null      object \n",
      " 17  Bulunduğu Kat                  452 non-null    object \n",
      " 18  EÅŸya Durumu                   1 non-null      object \n",
      " 19  Eşya Durumu                    245 non-null    object \n",
      " 20  Fiyat Durumu                   455 non-null    object \n",
      " 21  GÃ¶rÃ¼ntÃ¼lÃ¼ Gezilebilir mi?  0 non-null      float64\n",
      " 22  Görüntülü Gezilebilir mi?      88 non-null     object \n",
      " 23  IsÄ±tma Tipi                   3 non-null      object \n",
      " 24  Isıtma Tipi                    452 non-null    object \n",
      " 25  Kategorisi                     455 non-null    object \n",
      " 26  Kira Getirisi                  69 non-null     object \n",
      " 27  Krediye Uygunluk               455 non-null    object \n",
      " 28  KullanÄ±m Durumu               3 non-null      object \n",
      " 29  Kullanım Durumu                452 non-null    object \n",
      " 30  Net Metrekare                  455 non-null    object \n",
      " 31  Oda SayÄ±sÄ±                   3 non-null      object \n",
      " 32  Oda Sayısı                     452 non-null    object \n",
      " 33  Pafta                          4 non-null      object \n",
      " 34  Parsel                         4 non-null      float64\n",
      " 35  Salon Metrekare                8 non-null      object \n",
      " 36  Site Ä°Ã§erisinde              3 non-null      object \n",
      " 37  Site İçerisinde                452 non-null    object \n",
      " 38  Takas                          334 non-null    object \n",
      " 39  Tapu Durumu                    211 non-null    object \n",
      " 40  Tipi                           455 non-null    object \n",
      " 41  TÃ¼rÃ¼                         3 non-null      object \n",
      " 42  Türü                           452 non-null    object \n",
      " 43  WC Metrekare                   7 non-null      object \n",
      " 44  WC SayÄ±sÄ±                    2 non-null      float64\n",
      " 45  WC Sayısı                      107 non-null    float64\n",
      " 46  YapÄ± Durumu                   3 non-null      object \n",
      " 47  YapÄ± Tipi                     2 non-null      object \n",
      " 48  Yapı Durumu                    193 non-null    object \n",
      " 49  Yapı Tipi                      155 non-null    object \n",
      " 50  YatÄ±rÄ±ma Uygunluk            2 non-null      object \n",
      " 51  Yatırıma Uygunluk              333 non-null    object \n",
      " 52  Zemin Etüdü                    14 non-null     object \n",
      " 53  Ä°lan GÃ¼ncelleme Tarihi       3 non-null      object \n",
      " 54  Ä°lan NumarasÄ±                3 non-null      float64\n",
      " 55  Ä°lan OluÅŸturma Tarihi        3 non-null      object \n",
      " 56  Ä°potek Durumu                 0 non-null      float64\n",
      " 57  İlan Güncelleme Tarihi         452 non-null    object \n",
      " 58  İlan Numarası                  452 non-null    float64\n",
      " 59  İlan Oluşturma Tarihi          452 non-null    object \n",
      " 60  İpotek Durumu                  59 non-null     object \n",
      " 61  URL                            610 non-null    object \n",
      " 62  FİYAT                          610 non-null    object \n",
      " 63  KONUM                          610 non-null    object \n",
      "dtypes: float64(13), object(51)\n",
      "memory usage: 305.1+ KB\n"
     ]
    }
   ],
   "source": [
    "# Veri İle İlgili kısa bilgiler : veri türü, boş alan var yok \n",
    "data.info()"
   ]
  },
  {
   "cell_type": "code",
   "execution_count": 5,
   "id": "01ba769b",
   "metadata": {},
   "outputs": [],
   "source": [
    "data = data.drop(['Ada', 'Aidat','Balkon Durumu','Balkon Metrekare','Balkon SayÄ±sÄ±','Balkon Tipi','Banyo Metrekare','Banyo SayÄ±sÄ±','BinanÄ±n Kat SayÄ±sÄ±',\n",
    "            'BinanÄ±n YaÅŸÄ±','BrÃ¼t Metrekare','BulunduÄŸu Kat','EÅŸya Durumu',\n",
    "                 'Fiyat Durumu','GÃ¶rÃ¼ntÃ¼lÃ¼ Gezilebilir mi?','Görüntülü Gezilebilir mi?','IsÄ±tma Tipi','Kategorisi','Kira Getirisi','Krediye Uygunluk','KullanÄ±m Durumu',\n",
    "                 'Kullanım Durumu','Oda SayÄ±sÄ±','Pafta','Parsel','Salon Metrekare','Site Ä°Ã§erisinde','Site İçerisinde','Takas','Tapu Durumu',\n",
    "                  'TÃ¼rÃ¼','WC Metrekare','WC SayÄ±sÄ±','YapÄ± Durumu','YapÄ± Tipi','Yapı Durumu',\n",
    "                  'Yapı Tipi','YatÄ±rÄ±ma Uygunluk','Yatırıma Uygunluk','Zemin Etüdü','Ä°lan GÃ¼ncelleme Tarihi','Ä°lan NumarasÄ±','Ä°lan OluÅŸturma Tarihi','Ä°potek Durumu',\n",
    "                 'İlan Güncelleme Tarihi','İlan Numarası','İlan Oluşturma Tarihi','İpotek Durumu','Eşya Durumu','Türü','Tipi','Balkon Sayısı','WC Sayısı','Bulunduğu Kat'], axis=1)"
   ]
  },
  {
   "cell_type": "code",
   "execution_count": 6,
   "id": "0b420d0e",
   "metadata": {},
   "outputs": [
    {
     "name": "stdout",
     "output_type": "stream",
     "text": [
      "<class 'pandas.core.frame.DataFrame'>\n",
      "RangeIndex: 610 entries, 0 to 609\n",
      "Data columns (total 10 columns):\n",
      " #   Column              Non-Null Count  Dtype  \n",
      "---  ------              --------------  -----  \n",
      " 0   Banyo Sayısı        452 non-null    float64\n",
      " 1   Binanın Kat Sayısı  452 non-null    float64\n",
      " 2   Binanın Yaşı        452 non-null    object \n",
      " 3   Brüt Metrekare      452 non-null    object \n",
      " 4   Isıtma Tipi         452 non-null    object \n",
      " 5   Net Metrekare       455 non-null    object \n",
      " 6   Oda Sayısı          452 non-null    object \n",
      " 7   URL                 610 non-null    object \n",
      " 8   FİYAT               610 non-null    object \n",
      " 9   KONUM               610 non-null    object \n",
      "dtypes: float64(2), object(8)\n",
      "memory usage: 47.8+ KB\n"
     ]
    }
   ],
   "source": [
    "data.info()"
   ]
  },
  {
   "cell_type": "code",
   "execution_count": 7,
   "id": "1a4eda7e",
   "metadata": {},
   "outputs": [
    {
     "data": {
      "text/html": [
       "<div>\n",
       "<style scoped>\n",
       "    .dataframe tbody tr th:only-of-type {\n",
       "        vertical-align: middle;\n",
       "    }\n",
       "\n",
       "    .dataframe tbody tr th {\n",
       "        vertical-align: top;\n",
       "    }\n",
       "\n",
       "    .dataframe thead th {\n",
       "        text-align: right;\n",
       "    }\n",
       "</style>\n",
       "<table border=\"1\" class=\"dataframe\">\n",
       "  <thead>\n",
       "    <tr style=\"text-align: right;\">\n",
       "      <th></th>\n",
       "      <th>count</th>\n",
       "      <th>mean</th>\n",
       "      <th>std</th>\n",
       "      <th>min</th>\n",
       "      <th>25%</th>\n",
       "      <th>50%</th>\n",
       "      <th>75%</th>\n",
       "      <th>max</th>\n",
       "    </tr>\n",
       "  </thead>\n",
       "  <tbody>\n",
       "    <tr>\n",
       "      <th>Banyo Sayısı</th>\n",
       "      <td>452.0</td>\n",
       "      <td>1.393805</td>\n",
       "      <td>0.564867</td>\n",
       "      <td>1.0</td>\n",
       "      <td>1.0</td>\n",
       "      <td>1.0</td>\n",
       "      <td>2.0</td>\n",
       "      <td>4.0</td>\n",
       "    </tr>\n",
       "    <tr>\n",
       "      <th>Binanın Kat Sayısı</th>\n",
       "      <td>452.0</td>\n",
       "      <td>3.112832</td>\n",
       "      <td>0.885014</td>\n",
       "      <td>1.0</td>\n",
       "      <td>3.0</td>\n",
       "      <td>3.0</td>\n",
       "      <td>4.0</td>\n",
       "      <td>6.0</td>\n",
       "    </tr>\n",
       "  </tbody>\n",
       "</table>\n",
       "</div>"
      ],
      "text/plain": [
       "                    count      mean       std  min  25%  50%  75%  max\n",
       "Banyo Sayısı        452.0  1.393805  0.564867  1.0  1.0  1.0  2.0  4.0\n",
       "Binanın Kat Sayısı  452.0  3.112832  0.885014  1.0  3.0  3.0  4.0  6.0"
      ]
     },
     "execution_count": 7,
     "metadata": {},
     "output_type": "execute_result"
    }
   ],
   "source": [
    "# describe() metodu ile nümerik alanların istatistiksel özelliklerini görelim\n",
    "data.describe().T"
   ]
  },
  {
   "cell_type": "code",
   "execution_count": 8,
   "id": "f2e1dfed",
   "metadata": {},
   "outputs": [
    {
     "data": {
      "text/plain": [
       "Banyo Sayısı          158\n",
       "Binanın Kat Sayısı    158\n",
       "Binanın Yaşı          158\n",
       "Brüt Metrekare        158\n",
       "Isıtma Tipi           158\n",
       "Net Metrekare         155\n",
       "Oda Sayısı            158\n",
       "URL                     0\n",
       "FİYAT                   0\n",
       "KONUM                   0\n",
       "dtype: int64"
      ]
     },
     "execution_count": 8,
     "metadata": {},
     "output_type": "execute_result"
    }
   ],
   "source": [
    "# Eksik Veri Sayısını Bulma\n",
    "data.isna().sum()"
   ]
  },
  {
   "cell_type": "code",
   "execution_count": 9,
   "id": "23a2e88f",
   "metadata": {},
   "outputs": [
    {
     "data": {
      "text/html": [
       "<div>\n",
       "<style scoped>\n",
       "    .dataframe tbody tr th:only-of-type {\n",
       "        vertical-align: middle;\n",
       "    }\n",
       "\n",
       "    .dataframe tbody tr th {\n",
       "        vertical-align: top;\n",
       "    }\n",
       "\n",
       "    .dataframe thead th {\n",
       "        text-align: right;\n",
       "    }\n",
       "</style>\n",
       "<table border=\"1\" class=\"dataframe\">\n",
       "  <thead>\n",
       "    <tr style=\"text-align: right;\">\n",
       "      <th></th>\n",
       "      <th>Banyo Sayısı</th>\n",
       "      <th>Binanın Kat Sayısı</th>\n",
       "      <th>Binanın Yaşı</th>\n",
       "      <th>Brüt Metrekare</th>\n",
       "      <th>Isıtma Tipi</th>\n",
       "      <th>Net Metrekare</th>\n",
       "      <th>Oda Sayısı</th>\n",
       "      <th>URL</th>\n",
       "      <th>FİYAT</th>\n",
       "      <th>KONUM</th>\n",
       "    </tr>\n",
       "  </thead>\n",
       "  <tbody>\n",
       "    <tr>\n",
       "      <th>0</th>\n",
       "      <td>1.0</td>\n",
       "      <td>3.0</td>\n",
       "      <td>0 (Yeni)</td>\n",
       "      <td>60 M2</td>\n",
       "      <td>Klimalı</td>\n",
       "      <td>50 M2</td>\n",
       "      <td>1+1</td>\n",
       "      <td>https://www.emlakjet.com//ilan/firsat-daire-or...</td>\n",
       "      <td>1.550.000 TL</td>\n",
       "      <td>Muğla - Ortaca - Karaburun Mh.</td>\n",
       "    </tr>\n",
       "    <tr>\n",
       "      <th>1</th>\n",
       "      <td>1.0</td>\n",
       "      <td>3.0</td>\n",
       "      <td>0 (Yeni)</td>\n",
       "      <td>60 M2</td>\n",
       "      <td>Yerden Isıtma</td>\n",
       "      <td>50 M2</td>\n",
       "      <td>1+1</td>\n",
       "      <td>https://www.emlakjet.com//ilan/ortaca-karaburu...</td>\n",
       "      <td>1.750.000 TL</td>\n",
       "      <td>Muğla - Ortaca - Karaburun Mh.</td>\n",
       "    </tr>\n",
       "    <tr>\n",
       "      <th>2</th>\n",
       "      <td>1.0</td>\n",
       "      <td>3.0</td>\n",
       "      <td>0 (Yeni)</td>\n",
       "      <td>60 M2</td>\n",
       "      <td>Klimalı</td>\n",
       "      <td>50 M2</td>\n",
       "      <td>1+1</td>\n",
       "      <td>https://www.emlakjet.com//ilan/ortaca-cayli-ma...</td>\n",
       "      <td>1.550.000 TL</td>\n",
       "      <td>Muğla - Ortaca - Çaylı Mh.</td>\n",
       "    </tr>\n",
       "    <tr>\n",
       "      <th>3</th>\n",
       "      <td>1.0</td>\n",
       "      <td>3.0</td>\n",
       "      <td>1</td>\n",
       "      <td>90 M2</td>\n",
       "      <td>Klimalı</td>\n",
       "      <td>80 M2</td>\n",
       "      <td>2+1</td>\n",
       "      <td>https://www.emlakjet.com//ilan/firsat-daire-or...</td>\n",
       "      <td>2.200.000 TL</td>\n",
       "      <td>Muğla - Ortaca - Bahçelievler Mh.</td>\n",
       "    </tr>\n",
       "    <tr>\n",
       "      <th>4</th>\n",
       "      <td>1.0</td>\n",
       "      <td>3.0</td>\n",
       "      <td>0 (Yeni)</td>\n",
       "      <td>90 M2</td>\n",
       "      <td>Klimalı</td>\n",
       "      <td>80 M2</td>\n",
       "      <td>2+1</td>\n",
       "      <td>https://www.emlakjet.com//ilan/ortaca-cayli-ma...</td>\n",
       "      <td>2.200.000 TL</td>\n",
       "      <td>Muğla - Ortaca - Çaylı Mh.</td>\n",
       "    </tr>\n",
       "  </tbody>\n",
       "</table>\n",
       "</div>"
      ],
      "text/plain": [
       "   Banyo Sayısı  Binanın Kat Sayısı Binanın Yaşı Brüt Metrekare  \\\n",
       "0           1.0                 3.0     0 (Yeni)          60 M2   \n",
       "1           1.0                 3.0     0 (Yeni)          60 M2   \n",
       "2           1.0                 3.0     0 (Yeni)          60 M2   \n",
       "3           1.0                 3.0            1          90 M2   \n",
       "4           1.0                 3.0     0 (Yeni)          90 M2   \n",
       "\n",
       "     Isıtma Tipi Net Metrekare Oda Sayısı  \\\n",
       "0        Klimalı         50 M2        1+1   \n",
       "1  Yerden Isıtma         50 M2        1+1   \n",
       "2        Klimalı         50 M2        1+1   \n",
       "3        Klimalı         80 M2        2+1   \n",
       "4        Klimalı         80 M2        2+1   \n",
       "\n",
       "                                                 URL         FİYAT  \\\n",
       "0  https://www.emlakjet.com//ilan/firsat-daire-or...  1.550.000 TL   \n",
       "1  https://www.emlakjet.com//ilan/ortaca-karaburu...  1.750.000 TL   \n",
       "2  https://www.emlakjet.com//ilan/ortaca-cayli-ma...  1.550.000 TL   \n",
       "3  https://www.emlakjet.com//ilan/firsat-daire-or...  2.200.000 TL   \n",
       "4  https://www.emlakjet.com//ilan/ortaca-cayli-ma...  2.200.000 TL   \n",
       "\n",
       "                               KONUM  \n",
       "0     Muğla - Ortaca - Karaburun Mh.  \n",
       "1     Muğla - Ortaca - Karaburun Mh.  \n",
       "2         Muğla - Ortaca - Çaylı Mh.  \n",
       "3  Muğla - Ortaca - Bahçelievler Mh.  \n",
       "4         Muğla - Ortaca - Çaylı Mh.  "
      ]
     },
     "execution_count": 9,
     "metadata": {},
     "output_type": "execute_result"
    }
   ],
   "source": [
    "data.head()"
   ]
  },
  {
   "cell_type": "code",
   "execution_count": 10,
   "id": "7af5ad64",
   "metadata": {},
   "outputs": [
    {
     "data": {
      "text/plain": [
       "Banyo Sayısı\n",
       "1.0    288\n",
       "2.0    154\n",
       "3.0      6\n",
       "4.0      4\n",
       "Name: count, dtype: int64"
      ]
     },
     "execution_count": 10,
     "metadata": {},
     "output_type": "execute_result"
    }
   ],
   "source": [
    "data['Banyo Sayısı'].value_counts()"
   ]
  },
  {
   "cell_type": "code",
   "execution_count": 11,
   "id": "36f0acf9",
   "metadata": {},
   "outputs": [
    {
     "data": {
      "text/plain": [
       "Index(['Banyo Sayısı', 'Binanın Kat Sayısı', 'Binanın Yaşı', 'Brüt Metrekare',\n",
       "       'Isıtma Tipi', 'Net Metrekare', 'Oda Sayısı', 'URL', 'FİYAT', 'KONUM'],\n",
       "      dtype='object')"
      ]
     },
     "execution_count": 11,
     "metadata": {},
     "output_type": "execute_result"
    }
   ],
   "source": [
    "data.columns"
   ]
  },
  {
   "cell_type": "code",
   "execution_count": 12,
   "id": "b4127016",
   "metadata": {},
   "outputs": [
    {
     "data": {
      "image/png": "[encoded data removed]",
      "text/plain": [
       "<Figure size 1600x1600 with 1 Axes>"
      ]
     },
     "metadata": {},
     "output_type": "display_data"
    }
   ],
   "source": [
    "plt.figure(figsize=(16,16))\n",
    "plt.subplot(2,1,1)\n",
    "sns.countplot(x='KONUM',data = data,order = data['KONUM'].value_counts().index)\n",
    "plt.xticks(rotation = 90)\n",
    "plt.show()"
   ]
  },
  {
   "cell_type": "code",
   "execution_count": 13,
   "id": "04ae6af1",
   "metadata": {},
   "outputs": [],
   "source": [
    "#Data frame'i excel formatına çevirip kaydetme\n",
    "data.to_excel(\"ev_emlakjetDÜZENLENMİŞ_data.xlsx\", index=False)"
   ]
  },
  {
   "cell_type": "code",
   "execution_count": 14,
   "id": "0fdc47f3",
   "metadata": {},
   "outputs": [],
   "source": [
    "# Bundan sonrasında Encoding ediyoruuz eksik verileri temizliyoruz ve en sonun algoritmaları deniyoruz..."
   ]
  },
  {
   "cell_type": "code",
   "execution_count": 15,
   "id": "cc151aa0",
   "metadata": {},
   "outputs": [],
   "source": [
    "\n",
    "data = pd.read_excel(\"ev_emlakjetDÜZENLENMİŞ_data.xlsx\")"
   ]
  },
  {
   "cell_type": "code",
   "execution_count": 16,
   "id": "3762b0a9",
   "metadata": {},
   "outputs": [],
   "source": [
    "df = pd.DataFrame(data)\n"
   ]
  },
  {
   "cell_type": "code",
   "execution_count": 17,
   "id": "0e4d125c",
   "metadata": {},
   "outputs": [
    {
     "data": {
      "text/html": [
       "<div>\n",
       "<style scoped>\n",
       "    .dataframe tbody tr th:only-of-type {\n",
       "        vertical-align: middle;\n",
       "    }\n",
       "\n",
       "    .dataframe tbody tr th {\n",
       "        vertical-align: top;\n",
       "    }\n",
       "\n",
       "    .dataframe thead th {\n",
       "        text-align: right;\n",
       "    }\n",
       "</style>\n",
       "<table border=\"1\" class=\"dataframe\">\n",
       "  <thead>\n",
       "    <tr style=\"text-align: right;\">\n",
       "      <th></th>\n",
       "      <th>Banyo Sayısı</th>\n",
       "      <th>Binanın Kat Sayısı</th>\n",
       "      <th>Binanın Yaşı</th>\n",
       "      <th>Brüt Metrekare</th>\n",
       "      <th>Isıtma Tipi</th>\n",
       "      <th>Net Metrekare</th>\n",
       "      <th>Oda Sayısı</th>\n",
       "      <th>URL</th>\n",
       "      <th>FİYAT</th>\n",
       "      <th>KONUM</th>\n",
       "    </tr>\n",
       "  </thead>\n",
       "  <tbody>\n",
       "    <tr>\n",
       "      <th>0</th>\n",
       "      <td>1.0</td>\n",
       "      <td>3.0</td>\n",
       "      <td>0 (Yeni)</td>\n",
       "      <td>60 M2</td>\n",
       "      <td>Klimalı</td>\n",
       "      <td>50 M2</td>\n",
       "      <td>1+1</td>\n",
       "      <td>https://www.emlakjet.com//ilan/firsat-daire-or...</td>\n",
       "      <td>1.550.000 TL</td>\n",
       "      <td>Muğla - Ortaca - Karaburun Mh.</td>\n",
       "    </tr>\n",
       "    <tr>\n",
       "      <th>1</th>\n",
       "      <td>1.0</td>\n",
       "      <td>3.0</td>\n",
       "      <td>0 (Yeni)</td>\n",
       "      <td>60 M2</td>\n",
       "      <td>Yerden Isıtma</td>\n",
       "      <td>50 M2</td>\n",
       "      <td>1+1</td>\n",
       "      <td>https://www.emlakjet.com//ilan/ortaca-karaburu...</td>\n",
       "      <td>1.750.000 TL</td>\n",
       "      <td>Muğla - Ortaca - Karaburun Mh.</td>\n",
       "    </tr>\n",
       "    <tr>\n",
       "      <th>2</th>\n",
       "      <td>1.0</td>\n",
       "      <td>3.0</td>\n",
       "      <td>0 (Yeni)</td>\n",
       "      <td>60 M2</td>\n",
       "      <td>Klimalı</td>\n",
       "      <td>50 M2</td>\n",
       "      <td>1+1</td>\n",
       "      <td>https://www.emlakjet.com//ilan/ortaca-cayli-ma...</td>\n",
       "      <td>1.550.000 TL</td>\n",
       "      <td>Muğla - Ortaca - Çaylı Mh.</td>\n",
       "    </tr>\n",
       "    <tr>\n",
       "      <th>3</th>\n",
       "      <td>1.0</td>\n",
       "      <td>3.0</td>\n",
       "      <td>1</td>\n",
       "      <td>90 M2</td>\n",
       "      <td>Klimalı</td>\n",
       "      <td>80 M2</td>\n",
       "      <td>2+1</td>\n",
       "      <td>https://www.emlakjet.com//ilan/firsat-daire-or...</td>\n",
       "      <td>2.200.000 TL</td>\n",
       "      <td>Muğla - Ortaca - Bahçelievler Mh.</td>\n",
       "    </tr>\n",
       "    <tr>\n",
       "      <th>4</th>\n",
       "      <td>1.0</td>\n",
       "      <td>3.0</td>\n",
       "      <td>0 (Yeni)</td>\n",
       "      <td>90 M2</td>\n",
       "      <td>Klimalı</td>\n",
       "      <td>80 M2</td>\n",
       "      <td>2+1</td>\n",
       "      <td>https://www.emlakjet.com//ilan/ortaca-cayli-ma...</td>\n",
       "      <td>2.200.000 TL</td>\n",
       "      <td>Muğla - Ortaca - Çaylı Mh.</td>\n",
       "    </tr>\n",
       "  </tbody>\n",
       "</table>\n",
       "</div>"
      ],
      "text/plain": [
       "   Banyo Sayısı  Binanın Kat Sayısı Binanın Yaşı Brüt Metrekare  \\\n",
       "0           1.0                 3.0     0 (Yeni)          60 M2   \n",
       "1           1.0                 3.0     0 (Yeni)          60 M2   \n",
       "2           1.0                 3.0     0 (Yeni)          60 M2   \n",
       "3           1.0                 3.0            1          90 M2   \n",
       "4           1.0                 3.0     0 (Yeni)          90 M2   \n",
       "\n",
       "     Isıtma Tipi Net Metrekare Oda Sayısı  \\\n",
       "0        Klimalı         50 M2        1+1   \n",
       "1  Yerden Isıtma         50 M2        1+1   \n",
       "2        Klimalı         50 M2        1+1   \n",
       "3        Klimalı         80 M2        2+1   \n",
       "4        Klimalı         80 M2        2+1   \n",
       "\n",
       "                                                 URL         FİYAT  \\\n",
       "0  https://www.emlakjet.com//ilan/firsat-daire-or...  1.550.000 TL   \n",
       "1  https://www.emlakjet.com//ilan/ortaca-karaburu...  1.750.000 TL   \n",
       "2  https://www.emlakjet.com//ilan/ortaca-cayli-ma...  1.550.000 TL   \n",
       "3  https://www.emlakjet.com//ilan/firsat-daire-or...  2.200.000 TL   \n",
       "4  https://www.emlakjet.com//ilan/ortaca-cayli-ma...  2.200.000 TL   \n",
       "\n",
       "                               KONUM  \n",
       "0     Muğla - Ortaca - Karaburun Mh.  \n",
       "1     Muğla - Ortaca - Karaburun Mh.  \n",
       "2         Muğla - Ortaca - Çaylı Mh.  \n",
       "3  Muğla - Ortaca - Bahçelievler Mh.  \n",
       "4         Muğla - Ortaca - Çaylı Mh.  "
      ]
     },
     "execution_count": 17,
     "metadata": {},
     "output_type": "execute_result"
    }
   ],
   "source": [
    "data.head()"
   ]
  },
  {
   "cell_type": "code",
   "execution_count": 18,
   "id": "a38d71cd",
   "metadata": {},
   "outputs": [
    {
     "data": {
      "text/plain": [
       "Banyo Sayısı          158\n",
       "Binanın Kat Sayısı    158\n",
       "Binanın Yaşı          158\n",
       "Brüt Metrekare        158\n",
       "Isıtma Tipi           158\n",
       "Net Metrekare         155\n",
       "Oda Sayısı            158\n",
       "URL                     0\n",
       "FİYAT                   0\n",
       "KONUM                   0\n",
       "dtype: int64"
      ]
     },
     "execution_count": 18,
     "metadata": {},
     "output_type": "execute_result"
    }
   ],
   "source": [
    "# Eksik Veri Sayısını Bulma\n",
    "data.isna().sum()"
   ]
  },
  {
   "cell_type": "code",
   "execution_count": 19,
   "id": "27d8a7b0",
   "metadata": {},
   "outputs": [],
   "source": [
    "\n",
    "df[\"Net Metrekare\"] = df['Net Metrekare'].str[:-3]\n",
    "df[\"Brüt Metrekare\"] = df['Brüt Metrekare'].str[:-3]\n",
    "df.loc[data['Binanın Yaşı'] == \"0 (Yeni)\", \"Binanın Yaşı\"] = \"0\"\n",
    "\n",
    "df['Oda Sayısı'] = df['Oda Sayısı'].replace('\\+.*$', '', regex=True)\n",
    "\n",
    "\n",
    "df.loc[data['Oda Sayısı'] == \"1 Oda\", \"Oda Sayısı\"] = \"1\"\n",
    "df.loc[data['Oda Sayısı'] == \"3,5\", \"Oda Sayısı\"] = \"3\"\n",
    "df.loc[data['Oda Sayısı'] == \"Stüdyo\", \"Oda Sayısı\"] = \"1\"\n",
    "\n",
    "\n",
    "\n",
    "\n",
    "\n",
    "# Sayısal değerlerin yanında gelen \"- Ve\" ifadesinden sonrakileri temizle\n",
    "df['Binanın Yaşı'] = df['Binanın Yaşı'].str.replace(r'-.*| Ve.*', '', regex=True)\n",
    "\n",
    "# Sayısal değerlerin yanında gelen \"- Ve\" ifadesinden sonrakileri temizle\n",
    "df['Binanın Yaşı'] = df['Binanın Yaşı'].str.replace(r'-.*| Ve.*', '', regex=True)\n",
    "\n",
    "\n"
   ]
  },
  {
   "cell_type": "code",
   "execution_count": 20,
   "id": "a9fba472",
   "metadata": {},
   "outputs": [],
   "source": [
    "#KONUM verisindeki ilçeleri aldık\n",
    "for index, sira in df.iterrows():\n",
    "    konum_verisi = sira['KONUM']\n",
    "    \n",
    "    # Metni \"-\" karakterine göre bölelim\n",
    "    bolumler = konum_verisi.split('-')\n",
    "    \n",
    "    # İlgili kısmı alalım (örnekte 2. indeks)\n",
    "    istenen_kisim = bolumler[1].strip()\n",
    "    \n",
    "    # İstenen kısmı yeni bir sütuna ekle (örnekte \"ISTENEN_KISIM\" adında bir sütun)\n",
    "    df.at[index, 'ilce'] = istenen_kisim"
   ]
  },
  {
   "cell_type": "code",
   "execution_count": 21,
   "id": "93d051c8",
   "metadata": {},
   "outputs": [],
   "source": [
    "# Fiyat sütunundaki . ları ve \"TL\" ibaresini temizle\n",
    "df['FİYAT'] = df['FİYAT'].replace({'\\.': '', ' TL': ''}, regex=True)"
   ]
  },
  {
   "cell_type": "code",
   "execution_count": 22,
   "id": "ae9dfe6b",
   "metadata": {},
   "outputs": [],
   "source": [
    "# Boş veri içeren satırları sil\n",
    "df = df.dropna()"
   ]
  },
  {
   "cell_type": "code",
   "execution_count": 23,
   "id": "aea8d464",
   "metadata": {},
   "outputs": [
    {
     "data": {
      "text/html": [
       "<div>\n",
       "<style scoped>\n",
       "    .dataframe tbody tr th:only-of-type {\n",
       "        vertical-align: middle;\n",
       "    }\n",
       "\n",
       "    .dataframe tbody tr th {\n",
       "        vertical-align: top;\n",
       "    }\n",
       "\n",
       "    .dataframe thead th {\n",
       "        text-align: right;\n",
       "    }\n",
       "</style>\n",
       "<table border=\"1\" class=\"dataframe\">\n",
       "  <thead>\n",
       "    <tr style=\"text-align: right;\">\n",
       "      <th></th>\n",
       "      <th>Banyo Sayısı</th>\n",
       "      <th>Binanın Kat Sayısı</th>\n",
       "      <th>Binanın Yaşı</th>\n",
       "      <th>Brüt Metrekare</th>\n",
       "      <th>Isıtma Tipi</th>\n",
       "      <th>Net Metrekare</th>\n",
       "      <th>Oda Sayısı</th>\n",
       "      <th>URL</th>\n",
       "      <th>FİYAT</th>\n",
       "      <th>KONUM</th>\n",
       "      <th>ilce</th>\n",
       "    </tr>\n",
       "  </thead>\n",
       "  <tbody>\n",
       "    <tr>\n",
       "      <th>0</th>\n",
       "      <td>1.0</td>\n",
       "      <td>3.0</td>\n",
       "      <td>0</td>\n",
       "      <td>60</td>\n",
       "      <td>Klimalı</td>\n",
       "      <td>50</td>\n",
       "      <td>1</td>\n",
       "      <td>https://www.emlakjet.com//ilan/firsat-daire-or...</td>\n",
       "      <td>1550000</td>\n",
       "      <td>Muğla - Ortaca - Karaburun Mh.</td>\n",
       "      <td>Ortaca</td>\n",
       "    </tr>\n",
       "    <tr>\n",
       "      <th>1</th>\n",
       "      <td>1.0</td>\n",
       "      <td>3.0</td>\n",
       "      <td>0</td>\n",
       "      <td>60</td>\n",
       "      <td>Yerden Isıtma</td>\n",
       "      <td>50</td>\n",
       "      <td>1</td>\n",
       "      <td>https://www.emlakjet.com//ilan/ortaca-karaburu...</td>\n",
       "      <td>1750000</td>\n",
       "      <td>Muğla - Ortaca - Karaburun Mh.</td>\n",
       "      <td>Ortaca</td>\n",
       "    </tr>\n",
       "    <tr>\n",
       "      <th>2</th>\n",
       "      <td>1.0</td>\n",
       "      <td>3.0</td>\n",
       "      <td>0</td>\n",
       "      <td>60</td>\n",
       "      <td>Klimalı</td>\n",
       "      <td>50</td>\n",
       "      <td>1</td>\n",
       "      <td>https://www.emlakjet.com//ilan/ortaca-cayli-ma...</td>\n",
       "      <td>1550000</td>\n",
       "      <td>Muğla - Ortaca - Çaylı Mh.</td>\n",
       "      <td>Ortaca</td>\n",
       "    </tr>\n",
       "    <tr>\n",
       "      <th>3</th>\n",
       "      <td>1.0</td>\n",
       "      <td>3.0</td>\n",
       "      <td>1</td>\n",
       "      <td>90</td>\n",
       "      <td>Klimalı</td>\n",
       "      <td>80</td>\n",
       "      <td>2</td>\n",
       "      <td>https://www.emlakjet.com//ilan/firsat-daire-or...</td>\n",
       "      <td>2200000</td>\n",
       "      <td>Muğla - Ortaca - Bahçelievler Mh.</td>\n",
       "      <td>Ortaca</td>\n",
       "    </tr>\n",
       "    <tr>\n",
       "      <th>4</th>\n",
       "      <td>1.0</td>\n",
       "      <td>3.0</td>\n",
       "      <td>0</td>\n",
       "      <td>90</td>\n",
       "      <td>Klimalı</td>\n",
       "      <td>80</td>\n",
       "      <td>2</td>\n",
       "      <td>https://www.emlakjet.com//ilan/ortaca-cayli-ma...</td>\n",
       "      <td>2200000</td>\n",
       "      <td>Muğla - Ortaca - Çaylı Mh.</td>\n",
       "      <td>Ortaca</td>\n",
       "    </tr>\n",
       "    <tr>\n",
       "      <th>...</th>\n",
       "      <td>...</td>\n",
       "      <td>...</td>\n",
       "      <td>...</td>\n",
       "      <td>...</td>\n",
       "      <td>...</td>\n",
       "      <td>...</td>\n",
       "      <td>...</td>\n",
       "      <td>...</td>\n",
       "      <td>...</td>\n",
       "      <td>...</td>\n",
       "      <td>...</td>\n",
       "    </tr>\n",
       "    <tr>\n",
       "      <th>95</th>\n",
       "      <td>2.0</td>\n",
       "      <td>3.0</td>\n",
       "      <td>2</td>\n",
       "      <td>100</td>\n",
       "      <td>Klimalı</td>\n",
       "      <td>85</td>\n",
       "      <td>2</td>\n",
       "      <td>https://www.emlakjet.com//ilan/ortaca-cumhuriy...</td>\n",
       "      <td>3000000</td>\n",
       "      <td>Muğla - Ortaca - Cumhuriyet Mh.</td>\n",
       "      <td>Ortaca</td>\n",
       "    </tr>\n",
       "    <tr>\n",
       "      <th>96</th>\n",
       "      <td>2.0</td>\n",
       "      <td>5.0</td>\n",
       "      <td>21</td>\n",
       "      <td>80</td>\n",
       "      <td>Klimalı</td>\n",
       "      <td>70</td>\n",
       "      <td>3</td>\n",
       "      <td>https://www.emlakjet.com//ilan/siteler-de-site...</td>\n",
       "      <td>7500000</td>\n",
       "      <td>Muğla - Marmaris - Siteler Mh.</td>\n",
       "      <td>Marmaris</td>\n",
       "    </tr>\n",
       "    <tr>\n",
       "      <th>97</th>\n",
       "      <td>1.0</td>\n",
       "      <td>3.0</td>\n",
       "      <td>21</td>\n",
       "      <td>75</td>\n",
       "      <td>Klimalı</td>\n",
       "      <td>70</td>\n",
       "      <td>2</td>\n",
       "      <td>https://www.emlakjet.com//ilan/armutalan-da-ac...</td>\n",
       "      <td>3900000</td>\n",
       "      <td>Muğla - Marmaris - Armutalan Mh.</td>\n",
       "      <td>Marmaris</td>\n",
       "    </tr>\n",
       "    <tr>\n",
       "      <th>98</th>\n",
       "      <td>1.0</td>\n",
       "      <td>4.0</td>\n",
       "      <td>0</td>\n",
       "      <td>60</td>\n",
       "      <td>Klimalı</td>\n",
       "      <td>55</td>\n",
       "      <td>1</td>\n",
       "      <td>https://www.emlakjet.com//ilan/mugla-ortaca-da...</td>\n",
       "      <td>1625000</td>\n",
       "      <td>Muğla - Ortaca - Yerbelen Mh.</td>\n",
       "      <td>Ortaca</td>\n",
       "    </tr>\n",
       "    <tr>\n",
       "      <th>99</th>\n",
       "      <td>1.0</td>\n",
       "      <td>2.0</td>\n",
       "      <td>5</td>\n",
       "      <td>85</td>\n",
       "      <td>Klimalı</td>\n",
       "      <td>75</td>\n",
       "      <td>2</td>\n",
       "      <td>https://www.emlakjet.com//ilan/ortaca-beskopru...</td>\n",
       "      <td>2200000</td>\n",
       "      <td>Muğla - Ortaca - Beşköprü Mh.</td>\n",
       "      <td>Ortaca</td>\n",
       "    </tr>\n",
       "  </tbody>\n",
       "</table>\n",
       "<p>100 rows × 11 columns</p>\n",
       "</div>"
      ],
      "text/plain": [
       "    Banyo Sayısı  Binanın Kat Sayısı Binanın Yaşı Brüt Metrekare  \\\n",
       "0            1.0                 3.0            0             60   \n",
       "1            1.0                 3.0            0             60   \n",
       "2            1.0                 3.0            0             60   \n",
       "3            1.0                 3.0            1             90   \n",
       "4            1.0                 3.0            0             90   \n",
       "..           ...                 ...          ...            ...   \n",
       "95           2.0                 3.0            2            100   \n",
       "96           2.0                 5.0           21             80   \n",
       "97           1.0                 3.0           21             75   \n",
       "98           1.0                 4.0            0             60   \n",
       "99           1.0                 2.0            5             85   \n",
       "\n",
       "      Isıtma Tipi Net Metrekare Oda Sayısı  \\\n",
       "0         Klimalı            50          1   \n",
       "1   Yerden Isıtma            50          1   \n",
       "2         Klimalı            50          1   \n",
       "3         Klimalı            80          2   \n",
       "4         Klimalı            80          2   \n",
       "..            ...           ...        ...   \n",
       "95        Klimalı            85          2   \n",
       "96        Klimalı            70          3   \n",
       "97        Klimalı            70          2   \n",
       "98        Klimalı            55          1   \n",
       "99        Klimalı            75          2   \n",
       "\n",
       "                                                  URL    FİYAT  \\\n",
       "0   https://www.emlakjet.com//ilan/firsat-daire-or...  1550000   \n",
       "1   https://www.emlakjet.com//ilan/ortaca-karaburu...  1750000   \n",
       "2   https://www.emlakjet.com//ilan/ortaca-cayli-ma...  1550000   \n",
       "3   https://www.emlakjet.com//ilan/firsat-daire-or...  2200000   \n",
       "4   https://www.emlakjet.com//ilan/ortaca-cayli-ma...  2200000   \n",
       "..                                                ...      ...   \n",
       "95  https://www.emlakjet.com//ilan/ortaca-cumhuriy...  3000000   \n",
       "96  https://www.emlakjet.com//ilan/siteler-de-site...  7500000   \n",
       "97  https://www.emlakjet.com//ilan/armutalan-da-ac...  3900000   \n",
       "98  https://www.emlakjet.com//ilan/mugla-ortaca-da...  1625000   \n",
       "99  https://www.emlakjet.com//ilan/ortaca-beskopru...  2200000   \n",
       "\n",
       "                                KONUM      ilce  \n",
       "0      Muğla - Ortaca - Karaburun Mh.    Ortaca  \n",
       "1      Muğla - Ortaca - Karaburun Mh.    Ortaca  \n",
       "2          Muğla - Ortaca - Çaylı Mh.    Ortaca  \n",
       "3   Muğla - Ortaca - Bahçelievler Mh.    Ortaca  \n",
       "4          Muğla - Ortaca - Çaylı Mh.    Ortaca  \n",
       "..                                ...       ...  \n",
       "95    Muğla - Ortaca - Cumhuriyet Mh.    Ortaca  \n",
       "96     Muğla - Marmaris - Siteler Mh.  Marmaris  \n",
       "97   Muğla - Marmaris - Armutalan Mh.  Marmaris  \n",
       "98      Muğla - Ortaca - Yerbelen Mh.    Ortaca  \n",
       "99      Muğla - Ortaca - Beşköprü Mh.    Ortaca  \n",
       "\n",
       "[100 rows x 11 columns]"
      ]
     },
     "execution_count": 23,
     "metadata": {},
     "output_type": "execute_result"
    }
   ],
   "source": [
    "df.head(100)"
   ]
  },
  {
   "cell_type": "code",
   "execution_count": 24,
   "id": "fbad84c6",
   "metadata": {},
   "outputs": [],
   "source": [
    "#Data frame'i excel formatına çevirip kaydetme\n",
    "df.to_excel(\"ev_DÜZENLENMİŞ_data.xlsx\", index=False)"
   ]
  },
  {
   "cell_type": "code",
   "execution_count": 25,
   "id": "fc23b54b",
   "metadata": {},
   "outputs": [],
   "source": [
    "data = pd.read_excel(\"ev_DÜZENLENMİŞ_data.xlsx\")"
   ]
  },
  {
   "cell_type": "code",
   "execution_count": 26,
   "id": "660a8535",
   "metadata": {},
   "outputs": [],
   "source": [
    "from sklearn.preprocessing import LabelEncoder\n",
    "enc = LabelEncoder()\n",
    "\n",
    "\n",
    "df = pd.DataFrame(data)"
   ]
  },
  {
   "cell_type": "code",
   "execution_count": 27,
   "id": "937ce9c2",
   "metadata": {},
   "outputs": [
    {
     "data": {
      "text/html": [
       "<div>\n",
       "<style scoped>\n",
       "    .dataframe tbody tr th:only-of-type {\n",
       "        vertical-align: middle;\n",
       "    }\n",
       "\n",
       "    .dataframe tbody tr th {\n",
       "        vertical-align: top;\n",
       "    }\n",
       "\n",
       "    .dataframe thead th {\n",
       "        text-align: right;\n",
       "    }\n",
       "</style>\n",
       "<table border=\"1\" class=\"dataframe\">\n",
       "  <thead>\n",
       "    <tr style=\"text-align: right;\">\n",
       "      <th></th>\n",
       "      <th>Banyo Sayısı</th>\n",
       "      <th>Binanın Kat Sayısı</th>\n",
       "      <th>Binanın Yaşı</th>\n",
       "      <th>Brüt Metrekare</th>\n",
       "      <th>Isıtma Tipi</th>\n",
       "      <th>Net Metrekare</th>\n",
       "      <th>Oda Sayısı</th>\n",
       "      <th>URL</th>\n",
       "      <th>FİYAT</th>\n",
       "      <th>KONUM</th>\n",
       "      <th>ilce</th>\n",
       "    </tr>\n",
       "  </thead>\n",
       "  <tbody>\n",
       "    <tr>\n",
       "      <th>0</th>\n",
       "      <td>1</td>\n",
       "      <td>3</td>\n",
       "      <td>0</td>\n",
       "      <td>60.0</td>\n",
       "      <td>Klimalı</td>\n",
       "      <td>50</td>\n",
       "      <td>1.0</td>\n",
       "      <td>https://www.emlakjet.com//ilan/firsat-daire-or...</td>\n",
       "      <td>1550000</td>\n",
       "      <td>Muğla - Ortaca - Karaburun Mh.</td>\n",
       "      <td>Ortaca</td>\n",
       "    </tr>\n",
       "    <tr>\n",
       "      <th>1</th>\n",
       "      <td>1</td>\n",
       "      <td>3</td>\n",
       "      <td>0</td>\n",
       "      <td>60.0</td>\n",
       "      <td>Yerden Isıtma</td>\n",
       "      <td>50</td>\n",
       "      <td>1.0</td>\n",
       "      <td>https://www.emlakjet.com//ilan/ortaca-karaburu...</td>\n",
       "      <td>1750000</td>\n",
       "      <td>Muğla - Ortaca - Karaburun Mh.</td>\n",
       "      <td>Ortaca</td>\n",
       "    </tr>\n",
       "    <tr>\n",
       "      <th>2</th>\n",
       "      <td>1</td>\n",
       "      <td>3</td>\n",
       "      <td>0</td>\n",
       "      <td>60.0</td>\n",
       "      <td>Klimalı</td>\n",
       "      <td>50</td>\n",
       "      <td>1.0</td>\n",
       "      <td>https://www.emlakjet.com//ilan/ortaca-cayli-ma...</td>\n",
       "      <td>1550000</td>\n",
       "      <td>Muğla - Ortaca - Çaylı Mh.</td>\n",
       "      <td>Ortaca</td>\n",
       "    </tr>\n",
       "    <tr>\n",
       "      <th>3</th>\n",
       "      <td>1</td>\n",
       "      <td>3</td>\n",
       "      <td>1</td>\n",
       "      <td>90.0</td>\n",
       "      <td>Klimalı</td>\n",
       "      <td>80</td>\n",
       "      <td>2.0</td>\n",
       "      <td>https://www.emlakjet.com//ilan/firsat-daire-or...</td>\n",
       "      <td>2200000</td>\n",
       "      <td>Muğla - Ortaca - Bahçelievler Mh.</td>\n",
       "      <td>Ortaca</td>\n",
       "    </tr>\n",
       "    <tr>\n",
       "      <th>4</th>\n",
       "      <td>1</td>\n",
       "      <td>3</td>\n",
       "      <td>0</td>\n",
       "      <td>90.0</td>\n",
       "      <td>Klimalı</td>\n",
       "      <td>80</td>\n",
       "      <td>2.0</td>\n",
       "      <td>https://www.emlakjet.com//ilan/ortaca-cayli-ma...</td>\n",
       "      <td>2200000</td>\n",
       "      <td>Muğla - Ortaca - Çaylı Mh.</td>\n",
       "      <td>Ortaca</td>\n",
       "    </tr>\n",
       "  </tbody>\n",
       "</table>\n",
       "</div>"
      ],
      "text/plain": [
       "   Banyo Sayısı  Binanın Kat Sayısı  Binanın Yaşı  Brüt Metrekare  \\\n",
       "0             1                   3             0            60.0   \n",
       "1             1                   3             0            60.0   \n",
       "2             1                   3             0            60.0   \n",
       "3             1                   3             1            90.0   \n",
       "4             1                   3             0            90.0   \n",
       "\n",
       "     Isıtma Tipi  Net Metrekare  Oda Sayısı  \\\n",
       "0        Klimalı             50         1.0   \n",
       "1  Yerden Isıtma             50         1.0   \n",
       "2        Klimalı             50         1.0   \n",
       "3        Klimalı             80         2.0   \n",
       "4        Klimalı             80         2.0   \n",
       "\n",
       "                                                 URL    FİYAT  \\\n",
       "0  https://www.emlakjet.com//ilan/firsat-daire-or...  1550000   \n",
       "1  https://www.emlakjet.com//ilan/ortaca-karaburu...  1750000   \n",
       "2  https://www.emlakjet.com//ilan/ortaca-cayli-ma...  1550000   \n",
       "3  https://www.emlakjet.com//ilan/firsat-daire-or...  2200000   \n",
       "4  https://www.emlakjet.com//ilan/ortaca-cayli-ma...  2200000   \n",
       "\n",
       "                               KONUM    ilce  \n",
       "0     Muğla - Ortaca - Karaburun Mh.  Ortaca  \n",
       "1     Muğla - Ortaca - Karaburun Mh.  Ortaca  \n",
       "2         Muğla - Ortaca - Çaylı Mh.  Ortaca  \n",
       "3  Muğla - Ortaca - Bahçelievler Mh.  Ortaca  \n",
       "4         Muğla - Ortaca - Çaylı Mh.  Ortaca  "
      ]
     },
     "execution_count": 27,
     "metadata": {},
     "output_type": "execute_result"
    }
   ],
   "source": [
    "data.head()"
   ]
  },
  {
   "cell_type": "code",
   "execution_count": 50,
   "id": "a488a1c8",
   "metadata": {},
   "outputs": [],
   "source": [
    "#encoding kısmı\n",
    "\n",
    "\n",
    "# 'Isıtma Tipi' sütununu seç\n",
    "isitma_tipi = df['Isıtma Tipi']\n",
    "\n",
    "# LabelEncoder oluştur\n",
    "label_encoder = LabelEncoder()\n",
    "\n",
    "# LabelEncoder'ı veriye uygula\n",
    "isitma_tipi_encoded = label_encoder.fit_transform(isitma_tipi)\n",
    "\n",
    "# Oluşan label encoding'i DataFrame'e ekle (isteğe bağlı)\n",
    "df['Isıtma Tipi'] = isitma_tipi_encoded\n",
    "\n",
    "\n",
    "\n",
    "ilce_tipi = df['ilce']\n",
    "\n",
    "# LabelEncoder'ı veriye uygula\n",
    "ilce_tipi_encoded = label_encoder.fit_transform(ilce_tipi)\n",
    "\n",
    "# Oluşan label encoding'i DataFrame'e ekle (isteğe bağlı)\n",
    "df['ilce'] = ilce_tipi_encoded"
   ]
  },
  {
   "cell_type": "code",
   "execution_count": 29,
   "id": "3fcb8e33",
   "metadata": {},
   "outputs": [
    {
     "data": {
      "text/html": [
       "<div>\n",
       "<style scoped>\n",
       "    .dataframe tbody tr th:only-of-type {\n",
       "        vertical-align: middle;\n",
       "    }\n",
       "\n",
       "    .dataframe tbody tr th {\n",
       "        vertical-align: top;\n",
       "    }\n",
       "\n",
       "    .dataframe thead th {\n",
       "        text-align: right;\n",
       "    }\n",
       "</style>\n",
       "<table border=\"1\" class=\"dataframe\">\n",
       "  <thead>\n",
       "    <tr style=\"text-align: right;\">\n",
       "      <th></th>\n",
       "      <th>Banyo Sayısı</th>\n",
       "      <th>Binanın Kat Sayısı</th>\n",
       "      <th>Binanın Yaşı</th>\n",
       "      <th>Brüt Metrekare</th>\n",
       "      <th>Isıtma Tipi</th>\n",
       "      <th>Net Metrekare</th>\n",
       "      <th>Oda Sayısı</th>\n",
       "      <th>URL</th>\n",
       "      <th>FİYAT</th>\n",
       "      <th>KONUM</th>\n",
       "      <th>ilce</th>\n",
       "    </tr>\n",
       "  </thead>\n",
       "  <tbody>\n",
       "    <tr>\n",
       "      <th>0</th>\n",
       "      <td>1</td>\n",
       "      <td>3</td>\n",
       "      <td>0</td>\n",
       "      <td>60.0</td>\n",
       "      <td>5</td>\n",
       "      <td>50</td>\n",
       "      <td>1.0</td>\n",
       "      <td>https://www.emlakjet.com//ilan/firsat-daire-or...</td>\n",
       "      <td>1550000</td>\n",
       "      <td>Muğla - Ortaca - Karaburun Mh.</td>\n",
       "      <td>3</td>\n",
       "    </tr>\n",
       "    <tr>\n",
       "      <th>1</th>\n",
       "      <td>1</td>\n",
       "      <td>3</td>\n",
       "      <td>0</td>\n",
       "      <td>60.0</td>\n",
       "      <td>12</td>\n",
       "      <td>50</td>\n",
       "      <td>1.0</td>\n",
       "      <td>https://www.emlakjet.com//ilan/ortaca-karaburu...</td>\n",
       "      <td>1750000</td>\n",
       "      <td>Muğla - Ortaca - Karaburun Mh.</td>\n",
       "      <td>3</td>\n",
       "    </tr>\n",
       "    <tr>\n",
       "      <th>2</th>\n",
       "      <td>1</td>\n",
       "      <td>3</td>\n",
       "      <td>0</td>\n",
       "      <td>60.0</td>\n",
       "      <td>5</td>\n",
       "      <td>50</td>\n",
       "      <td>1.0</td>\n",
       "      <td>https://www.emlakjet.com//ilan/ortaca-cayli-ma...</td>\n",
       "      <td>1550000</td>\n",
       "      <td>Muğla - Ortaca - Çaylı Mh.</td>\n",
       "      <td>3</td>\n",
       "    </tr>\n",
       "    <tr>\n",
       "      <th>3</th>\n",
       "      <td>1</td>\n",
       "      <td>3</td>\n",
       "      <td>1</td>\n",
       "      <td>90.0</td>\n",
       "      <td>5</td>\n",
       "      <td>80</td>\n",
       "      <td>2.0</td>\n",
       "      <td>https://www.emlakjet.com//ilan/firsat-daire-or...</td>\n",
       "      <td>2200000</td>\n",
       "      <td>Muğla - Ortaca - Bahçelievler Mh.</td>\n",
       "      <td>3</td>\n",
       "    </tr>\n",
       "    <tr>\n",
       "      <th>4</th>\n",
       "      <td>1</td>\n",
       "      <td>3</td>\n",
       "      <td>0</td>\n",
       "      <td>90.0</td>\n",
       "      <td>5</td>\n",
       "      <td>80</td>\n",
       "      <td>2.0</td>\n",
       "      <td>https://www.emlakjet.com//ilan/ortaca-cayli-ma...</td>\n",
       "      <td>2200000</td>\n",
       "      <td>Muğla - Ortaca - Çaylı Mh.</td>\n",
       "      <td>3</td>\n",
       "    </tr>\n",
       "    <tr>\n",
       "      <th>...</th>\n",
       "      <td>...</td>\n",
       "      <td>...</td>\n",
       "      <td>...</td>\n",
       "      <td>...</td>\n",
       "      <td>...</td>\n",
       "      <td>...</td>\n",
       "      <td>...</td>\n",
       "      <td>...</td>\n",
       "      <td>...</td>\n",
       "      <td>...</td>\n",
       "      <td>...</td>\n",
       "    </tr>\n",
       "    <tr>\n",
       "      <th>95</th>\n",
       "      <td>2</td>\n",
       "      <td>3</td>\n",
       "      <td>2</td>\n",
       "      <td>100.0</td>\n",
       "      <td>5</td>\n",
       "      <td>85</td>\n",
       "      <td>2.0</td>\n",
       "      <td>https://www.emlakjet.com//ilan/ortaca-cumhuriy...</td>\n",
       "      <td>3000000</td>\n",
       "      <td>Muğla - Ortaca - Cumhuriyet Mh.</td>\n",
       "      <td>3</td>\n",
       "    </tr>\n",
       "    <tr>\n",
       "      <th>96</th>\n",
       "      <td>2</td>\n",
       "      <td>5</td>\n",
       "      <td>21</td>\n",
       "      <td>80.0</td>\n",
       "      <td>5</td>\n",
       "      <td>70</td>\n",
       "      <td>3.0</td>\n",
       "      <td>https://www.emlakjet.com//ilan/siteler-de-site...</td>\n",
       "      <td>7500000</td>\n",
       "      <td>Muğla - Marmaris - Siteler Mh.</td>\n",
       "      <td>1</td>\n",
       "    </tr>\n",
       "    <tr>\n",
       "      <th>97</th>\n",
       "      <td>1</td>\n",
       "      <td>3</td>\n",
       "      <td>21</td>\n",
       "      <td>75.0</td>\n",
       "      <td>5</td>\n",
       "      <td>70</td>\n",
       "      <td>2.0</td>\n",
       "      <td>https://www.emlakjet.com//ilan/armutalan-da-ac...</td>\n",
       "      <td>3900000</td>\n",
       "      <td>Muğla - Marmaris - Armutalan Mh.</td>\n",
       "      <td>1</td>\n",
       "    </tr>\n",
       "    <tr>\n",
       "      <th>98</th>\n",
       "      <td>1</td>\n",
       "      <td>4</td>\n",
       "      <td>0</td>\n",
       "      <td>60.0</td>\n",
       "      <td>5</td>\n",
       "      <td>55</td>\n",
       "      <td>1.0</td>\n",
       "      <td>https://www.emlakjet.com//ilan/mugla-ortaca-da...</td>\n",
       "      <td>1625000</td>\n",
       "      <td>Muğla - Ortaca - Yerbelen Mh.</td>\n",
       "      <td>3</td>\n",
       "    </tr>\n",
       "    <tr>\n",
       "      <th>99</th>\n",
       "      <td>1</td>\n",
       "      <td>2</td>\n",
       "      <td>5</td>\n",
       "      <td>85.0</td>\n",
       "      <td>5</td>\n",
       "      <td>75</td>\n",
       "      <td>2.0</td>\n",
       "      <td>https://www.emlakjet.com//ilan/ortaca-beskopru...</td>\n",
       "      <td>2200000</td>\n",
       "      <td>Muğla - Ortaca - Beşköprü Mh.</td>\n",
       "      <td>3</td>\n",
       "    </tr>\n",
       "  </tbody>\n",
       "</table>\n",
       "<p>100 rows × 11 columns</p>\n",
       "</div>"
      ],
      "text/plain": [
       "    Banyo Sayısı  Binanın Kat Sayısı  Binanın Yaşı  Brüt Metrekare  \\\n",
       "0              1                   3             0            60.0   \n",
       "1              1                   3             0            60.0   \n",
       "2              1                   3             0            60.0   \n",
       "3              1                   3             1            90.0   \n",
       "4              1                   3             0            90.0   \n",
       "..           ...                 ...           ...             ...   \n",
       "95             2                   3             2           100.0   \n",
       "96             2                   5            21            80.0   \n",
       "97             1                   3            21            75.0   \n",
       "98             1                   4             0            60.0   \n",
       "99             1                   2             5            85.0   \n",
       "\n",
       "    Isıtma Tipi  Net Metrekare  Oda Sayısı  \\\n",
       "0             5             50         1.0   \n",
       "1            12             50         1.0   \n",
       "2             5             50         1.0   \n",
       "3             5             80         2.0   \n",
       "4             5             80         2.0   \n",
       "..          ...            ...         ...   \n",
       "95            5             85         2.0   \n",
       "96            5             70         3.0   \n",
       "97            5             70         2.0   \n",
       "98            5             55         1.0   \n",
       "99            5             75         2.0   \n",
       "\n",
       "                                                  URL    FİYAT  \\\n",
       "0   https://www.emlakjet.com//ilan/firsat-daire-or...  1550000   \n",
       "1   https://www.emlakjet.com//ilan/ortaca-karaburu...  1750000   \n",
       "2   https://www.emlakjet.com//ilan/ortaca-cayli-ma...  1550000   \n",
       "3   https://www.emlakjet.com//ilan/firsat-daire-or...  2200000   \n",
       "4   https://www.emlakjet.com//ilan/ortaca-cayli-ma...  2200000   \n",
       "..                                                ...      ...   \n",
       "95  https://www.emlakjet.com//ilan/ortaca-cumhuriy...  3000000   \n",
       "96  https://www.emlakjet.com//ilan/siteler-de-site...  7500000   \n",
       "97  https://www.emlakjet.com//ilan/armutalan-da-ac...  3900000   \n",
       "98  https://www.emlakjet.com//ilan/mugla-ortaca-da...  1625000   \n",
       "99  https://www.emlakjet.com//ilan/ortaca-beskopru...  2200000   \n",
       "\n",
       "                                KONUM  ilce  \n",
       "0      Muğla - Ortaca - Karaburun Mh.     3  \n",
       "1      Muğla - Ortaca - Karaburun Mh.     3  \n",
       "2          Muğla - Ortaca - Çaylı Mh.     3  \n",
       "3   Muğla - Ortaca - Bahçelievler Mh.     3  \n",
       "4          Muğla - Ortaca - Çaylı Mh.     3  \n",
       "..                                ...   ...  \n",
       "95    Muğla - Ortaca - Cumhuriyet Mh.     3  \n",
       "96     Muğla - Marmaris - Siteler Mh.     1  \n",
       "97   Muğla - Marmaris - Armutalan Mh.     1  \n",
       "98      Muğla - Ortaca - Yerbelen Mh.     3  \n",
       "99      Muğla - Ortaca - Beşköprü Mh.     3  \n",
       "\n",
       "[100 rows x 11 columns]"
      ]
     },
     "execution_count": 29,
     "metadata": {},
     "output_type": "execute_result"
    }
   ],
   "source": [
    "df.head(100)"
   ]
  },
  {
   "cell_type": "code",
   "execution_count": 30,
   "id": "fd041522",
   "metadata": {},
   "outputs": [
    {
     "data": {
      "text/plain": [
       "Banyo Sayısı          0\n",
       "Binanın Kat Sayısı    0\n",
       "Binanın Yaşı          0\n",
       "Brüt Metrekare        0\n",
       "Isıtma Tipi           0\n",
       "Net Metrekare         0\n",
       "Oda Sayısı            0\n",
       "URL                   0\n",
       "FİYAT                 0\n",
       "KONUM                 0\n",
       "ilce                  0\n",
       "dtype: int64"
      ]
     },
     "execution_count": 30,
     "metadata": {},
     "output_type": "execute_result"
    }
   ],
   "source": [
    "# Eksik Veri Sayısını Bulma\n",
    "data.isna().sum()"
   ]
  },
  {
   "cell_type": "code",
   "execution_count": 31,
   "id": "085124ca",
   "metadata": {},
   "outputs": [],
   "source": [
    "#Data frame'i excel formatına çevirip kaydetme\n",
    "df.to_excel(\"ev_DÜZENLENMİŞ_son_hal_data.xlsx\", index=False)"
   ]
  },
  {
   "cell_type": "code",
   "execution_count": 32,
   "id": "926e2db5",
   "metadata": {},
   "outputs": [],
   "source": [
    "from sklearn.model_selection import train_test_split\n",
    "from sklearn.metrics import r2_score\n",
    "\n",
    "data = pd.read_excel(\"ev_DÜZENLENMİŞ_son_hal_data.xlsx\")\n",
    "df = pd.DataFrame(data)"
   ]
  },
  {
   "cell_type": "code",
   "execution_count": 33,
   "id": "44698199",
   "metadata": {},
   "outputs": [
    {
     "name": "stderr",
     "output_type": "stream",
     "text": [
      "C:\\Users\\Sinan\\anaconda3\\Lib\\site-packages\\sklearn\\utils\\validation.py:1184: DataConversionWarning: A column-vector y was passed when a 1d array was expected. Please change the shape of y to (n_samples, ), for example using ravel().\n",
      "  y = column_or_1d(y, warn=True)\n"
     ]
    },
    {
     "data": {
      "text/plain": [
       "-0.07919191568082451"
      ]
     },
     "execution_count": 33,
     "metadata": {},
     "output_type": "execute_result"
    }
   ],
   "source": [
    "# SVR algoritması\n",
    "\n",
    "X = df[['Banyo Sayısı','Binanın Kat Sayısı','Binanın Yaşı','Brüt Metrekare','Isıtma Tipi','Net Metrekare',\n",
    "            'Oda Sayısı','ilce']]\n",
    "y = df[['FİYAT']].values.reshape(-1, 1)\n",
    "y = y.reshape(-1, 1) \n",
    "\n",
    "\n",
    "X_train, X_test, y_train, y_test = train_test_split(X, y, test_size = 0.2, random_state = 0)\n",
    "\n",
    "from sklearn.svm import SVR\n",
    "regressor = SVR(kernel = 'rbf',degree=3)\n",
    "regressor.fit(X_train, y_train)\n",
    "y_pred = regressor.predict(X_test)\n",
    "\n",
    "r2_score(y_test, y_pred)"
   ]
  },
  {
   "cell_type": "code",
   "execution_count": 34,
   "id": "a71ba8ca",
   "metadata": {},
   "outputs": [
    {
     "data": {
      "text/plain": [
       "['../../evler_SVR_model.pkl']"
      ]
     },
     "execution_count": 34,
     "metadata": {},
     "output_type": "execute_result"
    }
   ],
   "source": [
    "import joblib\n",
    "joblib.dump(regressor, \"../../evler_SVR_model.pkl\")"
   ]
  },
  {
   "cell_type": "code",
   "execution_count": null,
   "id": "f714ddb0",
   "metadata": {},
   "outputs": [],
   "source": []
  },
  {
   "cell_type": "code",
   "execution_count": 35,
   "id": "d6c5f7ef",
   "metadata": {},
   "outputs": [
    {
     "name": "stdout",
     "output_type": "stream",
     "text": [
      "0.26703243377863983\n"
     ]
    }
   ],
   "source": [
    "# DecisionTreeRegressor algoritması\n",
    "\n",
    "X = df[['Banyo Sayısı','Binanın Kat Sayısı','Binanın Yaşı','Brüt Metrekare','Isıtma Tipi','Net Metrekare',\n",
    "            'Oda Sayısı','ilce']]\n",
    "y = df[['FİYAT']].values.reshape(-1, 1)\n",
    "y = y.reshape(-1, 1) \n",
    "\n",
    "\n",
    "\n",
    "X_train, X_test, y_train, y_test = train_test_split(X, y, test_size = 0.2, random_state = 0)\n",
    "\n",
    "\n",
    "from sklearn.tree import DecisionTreeRegressor\n",
    "regressor = DecisionTreeRegressor(random_state = 0)\n",
    "regressor.fit(X_train, y_train)\n",
    "y_predDT = regressor.predict(X_test)\n",
    "\n",
    "\n",
    "DT_RSCORE = r2_score(y_test, y_predDT) \n",
    "\n",
    "print(DT_RSCORE)"
   ]
  },
  {
   "cell_type": "code",
   "execution_count": 36,
   "id": "a89217d7",
   "metadata": {},
   "outputs": [
    {
     "data": {
      "text/plain": [
       "['../../evler_decision_tree_model.pkl']"
      ]
     },
     "execution_count": 36,
     "metadata": {},
     "output_type": "execute_result"
    }
   ],
   "source": [
    "import joblib\n",
    "joblib.dump(regressor, \"../../evler_decision_tree_model.pkl\")"
   ]
  },
  {
   "cell_type": "code",
   "execution_count": null,
   "id": "0c3c18e6",
   "metadata": {},
   "outputs": [],
   "source": []
  },
  {
   "cell_type": "code",
   "execution_count": 37,
   "id": "66dd017a",
   "metadata": {},
   "outputs": [
    {
     "name": "stdout",
     "output_type": "stream",
     "text": [
      "0.4118765975922506\n"
     ]
    }
   ],
   "source": [
    "# LinearRegression algoritması\n",
    "\n",
    "X = df[['Banyo Sayısı','Binanın Kat Sayısı','Binanın Yaşı','Brüt Metrekare','Isıtma Tipi','Net Metrekare',\n",
    "            'Oda Sayısı','ilce']]\n",
    "y = df[['FİYAT']].values.reshape(-1, 1)\n",
    "y = y.reshape(-1, 1) \n",
    "\n",
    "\n",
    "X_train, X_test, y_train, y_test = train_test_split(X, y, test_size = 0.2, random_state = 0)\n",
    "\n",
    "from sklearn.linear_model import LinearRegression\n",
    "regressor = LinearRegression()\n",
    "regressor.fit(X_train, y_train)\n",
    "y_pred = regressor.predict(X_test)\n",
    "\n",
    "\n",
    "ML_RSCORE = r2_score(y_test, y_pred)\n",
    "\n",
    "print(ML_RSCORE)\n"
   ]
  },
  {
   "cell_type": "code",
   "execution_count": 38,
   "id": "583b74e6",
   "metadata": {},
   "outputs": [
    {
     "data": {
      "text/plain": [
       "['../../evler_multiple_linear_model.pkl']"
      ]
     },
     "execution_count": 38,
     "metadata": {},
     "output_type": "execute_result"
    }
   ],
   "source": [
    "import joblib\n",
    "joblib.dump(regressor, \"../../evler_multiple_linear_model.pkl\")"
   ]
  },
  {
   "cell_type": "code",
   "execution_count": null,
   "id": "d682ae26",
   "metadata": {},
   "outputs": [],
   "source": []
  },
  {
   "cell_type": "code",
   "execution_count": 39,
   "id": "ce4042d0",
   "metadata": {},
   "outputs": [
    {
     "name": "stderr",
     "output_type": "stream",
     "text": [
      "C:\\Users\\Sinan\\anaconda3\\Lib\\site-packages\\sklearn\\base.py:1151: DataConversionWarning: A column-vector y was passed when a 1d array was expected. Please change the shape of y to (n_samples,), for example using ravel().\n",
      "  return fit_method(estimator, *args, **kwargs)\n"
     ]
    },
    {
     "name": "stdout",
     "output_type": "stream",
     "text": [
      "0.5411308249022893\n"
     ]
    }
   ],
   "source": [
    "# RandomForestRegressor algoritması\n",
    "\n",
    "X = df[['Banyo Sayısı','Binanın Kat Sayısı','Binanın Yaşı','Brüt Metrekare','Isıtma Tipi','Net Metrekare',\n",
    "            'Oda Sayısı','ilce']]\n",
    "y = df[['FİYAT']].values.reshape(-1, 1)\n",
    "y = y.reshape(-1, 1) \n",
    "\n",
    "\n",
    "X_train, X_test, y_train, y_test = train_test_split(X, y, test_size = 0.2, random_state = 0)\n",
    "\n",
    "from sklearn.ensemble import RandomForestRegressor\n",
    "regressor = RandomForestRegressor(n_estimators = 100, random_state = 0)\n",
    "regressor.fit(X_train, y_train)\n",
    "y_predRF = regressor.predict(X_test)\n",
    "\n",
    "\n",
    "RF_RSCORE = r2_score(y_test, y_predRF) \n",
    "\n",
    "print(RF_RSCORE)"
   ]
  },
  {
   "cell_type": "code",
   "execution_count": 40,
   "id": "6d1e6a94",
   "metadata": {},
   "outputs": [
    {
     "data": {
      "text/plain": [
       "['../../evler_random_forest_model.pkl']"
      ]
     },
     "execution_count": 40,
     "metadata": {},
     "output_type": "execute_result"
    }
   ],
   "source": [
    "import joblib\n",
    "joblib.dump(regressor, \"../../evler_random_forest_model.pkl\")"
   ]
  },
  {
   "cell_type": "code",
   "execution_count": null,
   "id": "37383b15",
   "metadata": {},
   "outputs": [],
   "source": []
  },
  {
   "cell_type": "code",
   "execution_count": 1,
   "id": "4c7249bd",
   "metadata": {},
   "outputs": [
    {
     "ename": "NameError",
     "evalue": "name 'df' is not defined",
     "output_type": "error",
     "traceback": [
      "\u001b[1;31m---------------------------------------------------------------------------\u001b[0m",
      "\u001b[1;31mNameError\u001b[0m                                 Traceback (most recent call last)",
      "Cell \u001b[1;32mIn[1], line 3\u001b[0m\n\u001b[0;32m      1\u001b[0m \u001b[38;5;66;03m# Lasso algoritması\u001b[39;00m\n\u001b[1;32m----> 3\u001b[0m X \u001b[38;5;241m=\u001b[39m df[[\u001b[38;5;124m'\u001b[39m\u001b[38;5;124mBanyo Sayısı\u001b[39m\u001b[38;5;124m'\u001b[39m,\u001b[38;5;124m'\u001b[39m\u001b[38;5;124mBinanın Kat Sayısı\u001b[39m\u001b[38;5;124m'\u001b[39m,\u001b[38;5;124m'\u001b[39m\u001b[38;5;124mBinanın Yaşı\u001b[39m\u001b[38;5;124m'\u001b[39m,\u001b[38;5;124m'\u001b[39m\u001b[38;5;124mBrüt Metrekare\u001b[39m\u001b[38;5;124m'\u001b[39m,\u001b[38;5;124m'\u001b[39m\u001b[38;5;124mIsıtma Tipi\u001b[39m\u001b[38;5;124m'\u001b[39m,\u001b[38;5;124m'\u001b[39m\u001b[38;5;124mNet Metrekare\u001b[39m\u001b[38;5;124m'\u001b[39m,\n\u001b[0;32m      4\u001b[0m             \u001b[38;5;124m'\u001b[39m\u001b[38;5;124mOda Sayısı\u001b[39m\u001b[38;5;124m'\u001b[39m,\u001b[38;5;124m'\u001b[39m\u001b[38;5;124milce\u001b[39m\u001b[38;5;124m'\u001b[39m]]\n\u001b[0;32m      5\u001b[0m y \u001b[38;5;241m=\u001b[39m df[[\u001b[38;5;124m'\u001b[39m\u001b[38;5;124mFİYAT\u001b[39m\u001b[38;5;124m'\u001b[39m]]\u001b[38;5;241m.\u001b[39mvalues\u001b[38;5;241m.\u001b[39mreshape(\u001b[38;5;241m-\u001b[39m\u001b[38;5;241m1\u001b[39m, \u001b[38;5;241m1\u001b[39m)\n\u001b[0;32m      6\u001b[0m y \u001b[38;5;241m=\u001b[39m y\u001b[38;5;241m.\u001b[39mreshape(\u001b[38;5;241m-\u001b[39m\u001b[38;5;241m1\u001b[39m, \u001b[38;5;241m1\u001b[39m) \n",
      "\u001b[1;31mNameError\u001b[0m: name 'df' is not defined"
     ]
    }
   ],
   "source": [
    "# Lasso algoritması\n",
    "\n",
    "X = df[['Banyo Sayısı','Binanın Kat Sayısı','Binanın Yaşı','Brüt Metrekare','Isıtma Tipi','Net Metrekare',\n",
    "            'Oda Sayısı','ilce']]\n",
    "y = df[['FİYAT']].values.reshape(-1, 1)\n",
    "y = y.reshape(-1, 1) \n",
    "\n",
    "\n",
    "X_train, X_test, y_train, y_test = train_test_split(X, y, test_size=0.2, random_state=0)\n",
    "\n",
    "print('x_train :', x_train.shape)\n",
    "print('x_test :', x_test.shape)\n",
    "print('y_train :', y_train.shape)\n",
    "print('y_test :', y_test.shape)\n",
    "\n",
    "\n",
    "from sklearn.linear_model import Lasso\n",
    "# Lineer Regresyon Train\n",
    "lr = LinearRegression()\n",
    "lr.fit(x_train,y_train)\n",
    "# \n",
    "y_predict = lr.predict(x_test) # üretilen modeli (lr) test vverisi ile deneyelim\n",
    "y_predict  #tahmin ettiği değerleri görelim\n"
   ]
  },
  {
   "cell_type": "code",
   "execution_count": null,
   "id": "3b298308",
   "metadata": {},
   "outputs": [],
   "source": [
    "from sklearn.metrics import r2_score, mean_squared_error, mean_absolute_error\n",
    "# metrikleri görelim\n",
    "print('mean absolute error: ',mean_absolute_error(y_test, y_predict))\n",
    "print(' root mean squared error: ',np.sqrt(mean_squared_error(y_test,y_predict)))\n",
    "print('Coefficient of determination R^2: ',r2_score(y_test,y_predict))"
   ]
  },
  {
   "cell_type": "code",
   "execution_count": null,
   "id": "dc9f21cd",
   "metadata": {},
   "outputs": [],
   "source": [
    "import joblib\n",
    "\n",
    "# Modeli kaydet\n",
    "joblib.dump(lasso_regressor, '../../evler_lasso_model.pkl')\n"
   ]
  },
  {
   "cell_type": "code",
   "execution_count": null,
   "id": "243b5da3",
   "metadata": {},
   "outputs": [],
   "source": [
    "#Burda hangi sütunların etkili olduğunu bakıyoruz\n",
    "from sklearn.ensemble import RandomForestRegressor\n",
    "\n",
    "# RandomForestRegressor modelini oluşturun ve eğitin\n",
    "regressor = RandomForestRegressor(n_estimators=100, random_state=0)\n",
    "regressor.fit(X_train, y_train)\n",
    "\n",
    "# Özellik önem sıralamasını alın\n",
    "importances = regressor.feature_importances_\n",
    "\n",
    "# Her bir özelliğin önemini ve sıralamayı gösterin\n",
    "feature_importance = list(zip(X_train.columns, importances))\n",
    "feature_importance.sort(key=lambda x: x[1], reverse=True)\n",
    "\n",
    "# Özellik önem sıralamasını yazdırın\n",
    "for feature, importance in feature_importance:\n",
    "    print(f\"{feature}: {importance}\")"
   ]
  },
  {
   "cell_type": "code",
   "execution_count": null,
   "id": "44da6dd8",
   "metadata": {},
   "outputs": [],
   "source": []
  },
  {
   "cell_type": "code",
   "execution_count": 42,
   "id": "066cd844",
   "metadata": {},
   "outputs": [
    {
     "name": "stdout",
     "output_type": "stream",
     "text": [
      "Ridge Regresyon R2 Skoru: 0.41203474192603684\n"
     ]
    }
   ],
   "source": [
    "# Ridge algoritması\n",
    "\n",
    "X = df[['Banyo Sayısı','Binanın Kat Sayısı','Binanın Yaşı','Brüt Metrekare','Isıtma Tipi','Net Metrekare',\n",
    "            'Oda Sayısı','ilce']]\n",
    "y = df[['FİYAT']].values.reshape(-1, 1)\n",
    "y = y.reshape(-1, 1) \n",
    "\n",
    "\n",
    "X_train, X_test, y_train, y_test = train_test_split(X, y, test_size = 0.2, random_state = 0)\n",
    "\n",
    "from sklearn.linear_model import Ridge\n",
    "# Ridge Regresyon modelini oluşturun\n",
    "ridge_regressor = Ridge(alpha=1.0)  # alpha, düzenleme parametresidir\n",
    "\n",
    "# Modeli eğitin\n",
    "ridge_regressor.fit(X_train, y_train)\n",
    "\n",
    "# Test seti üzerinde tahmin yapın\n",
    "y_pred_ridge = ridge_regressor.predict(X_test)\n",
    "\n",
    "# R2 skorunu hesaplayın\n",
    "ridge_r2_score = r2_score(y_test, y_pred_ridge)\n",
    "\n",
    "print(\"Ridge Regresyon R2 Skoru:\", ridge_r2_score)"
   ]
  },
  {
   "cell_type": "code",
   "execution_count": 43,
   "id": "a0ca3946",
   "metadata": {},
   "outputs": [
    {
     "data": {
      "text/plain": [
       "['../../evler_ridge_model.pkl']"
      ]
     },
     "execution_count": 43,
     "metadata": {},
     "output_type": "execute_result"
    }
   ],
   "source": [
    "import joblib\n",
    "\n",
    "# Modeli kaydet\n",
    "joblib.dump(regressor, '../../evler_ridge_model.pkl')"
   ]
  },
  {
   "cell_type": "code",
   "execution_count": null,
   "id": "552f9000",
   "metadata": {},
   "outputs": [],
   "source": []
  },
  {
   "cell_type": "code",
   "execution_count": 44,
   "id": "3f3a4f7a",
   "metadata": {},
   "outputs": [
    {
     "name": "stdout",
     "output_type": "stream",
     "text": [
      "K-Nearest Neighbors Regressor R2 Skoru: 0.17853160229143095\n"
     ]
    }
   ],
   "source": [
    "# KNeighborsRegressor algoritması\n",
    "\n",
    "X = df[['Banyo Sayısı','Binanın Kat Sayısı','Binanın Yaşı','Brüt Metrekare','Isıtma Tipi','Net Metrekare',\n",
    "            'Oda Sayısı','ilce']]\n",
    "y = df[['FİYAT']].values.reshape(-1, 1)\n",
    "y = y.reshape(-1, 1) \n",
    "\n",
    "\n",
    "X_train, X_test, y_train, y_test = train_test_split(X, y, test_size = 0.2, random_state = 0)\n",
    "\n",
    "from sklearn.neighbors import KNeighborsRegressor\n",
    "# Veriyi eğitim ve test setlerine ayırın\n",
    "X_train, X_test, y_train, y_test = train_test_split(X, y, test_size=0.2, random_state=0)\n",
    "\n",
    "# KNeighborsRegressor modelini oluşturun\n",
    "knn_regressor = KNeighborsRegressor(n_neighbors=5)  # n_neighbors, komşu sayısıdır\n",
    "\n",
    "# Modeli eğitin\n",
    "knn_regressor.fit(X_train, y_train)\n",
    "\n",
    "# Test seti üzerinde tahmin yapın\n",
    "y_pred_knn = knn_regressor.predict(X_test)\n",
    "\n",
    "# R2 skorunu hesaplayın\n",
    "knn_r2_score = r2_score(y_test, y_pred_knn)\n",
    "\n",
    "print(\"K-Nearest Neighbors Regressor R2 Skoru:\", knn_r2_score)"
   ]
  },
  {
   "cell_type": "code",
   "execution_count": 45,
   "id": "d24480ad",
   "metadata": {},
   "outputs": [
    {
     "data": {
      "text/plain": [
       "['../../evler_KNeighborsRegressor_model.pkl']"
      ]
     },
     "execution_count": 45,
     "metadata": {},
     "output_type": "execute_result"
    }
   ],
   "source": [
    "import joblib\n",
    "\n",
    "# Modeli kaydet\n",
    "joblib.dump(regressor, '../../evler_KNeighborsRegressor_model.pkl')"
   ]
  },
  {
   "cell_type": "code",
   "execution_count": null,
   "id": "ab0588c6",
   "metadata": {},
   "outputs": [],
   "source": []
  },
  {
   "cell_type": "code",
   "execution_count": 46,
   "id": "f3db3010",
   "metadata": {},
   "outputs": [
    {
     "name": "stdout",
     "output_type": "stream",
     "text": [
      "AdaBoost Regressor R2 Skoru: 0.23639928066426852\n"
     ]
    },
    {
     "name": "stderr",
     "output_type": "stream",
     "text": [
      "C:\\Users\\Sinan\\anaconda3\\Lib\\site-packages\\sklearn\\utils\\validation.py:1184: DataConversionWarning: A column-vector y was passed when a 1d array was expected. Please change the shape of y to (n_samples, ), for example using ravel().\n",
      "  y = column_or_1d(y, warn=True)\n"
     ]
    }
   ],
   "source": [
    "# AdaBoostRegresso algoritması\n",
    "\n",
    "X = df[['Banyo Sayısı','Binanın Kat Sayısı','Binanın Yaşı','Brüt Metrekare','Isıtma Tipi','Net Metrekare',\n",
    "            'Oda Sayısı','ilce']]\n",
    "y = df[['FİYAT']].values.reshape(-1, 1)\n",
    "y = y.reshape(-1, 1) \n",
    "\n",
    "\n",
    "X_train, X_test, y_train, y_test = train_test_split(X, y, test_size = 0.2, random_state = 0)\n",
    "\n",
    "\n",
    "from sklearn.ensemble import AdaBoostRegressor\n",
    "# AdaBoostRegressor modelini oluşturun\n",
    "adaboost_regressor = AdaBoostRegressor(n_estimators=50, random_state=0)  # n_estimators, kullanılacak zayıf öğrenicilerin sayısıdır\n",
    "\n",
    "# Modeli eğitin\n",
    "adaboost_regressor.fit(X_train, y_train)\n",
    "\n",
    "# Test seti üzerinde tahmin yapın\n",
    "y_pred_adaboost = adaboost_regressor.predict(X_test)\n",
    "\n",
    "# R2 skorunu hesaplayın\n",
    "adaboost_r2_score = r2_score(y_test, y_pred_adaboost)\n",
    "\n",
    "print(\"AdaBoost Regressor R2 Skoru:\", adaboost_r2_score)"
   ]
  },
  {
   "cell_type": "code",
   "execution_count": 47,
   "id": "bd3a6456",
   "metadata": {},
   "outputs": [
    {
     "data": {
      "text/plain": [
       "['../../evler_AdaBoostRegressor_model.pkl']"
      ]
     },
     "execution_count": 47,
     "metadata": {},
     "output_type": "execute_result"
    }
   ],
   "source": [
    "import joblib\n",
    "\n",
    "# Modeli kaydet\n",
    "joblib.dump(regressor, '../../evler_AdaBoostRegressor_model.pkl')"
   ]
  },
  {
   "cell_type": "code",
   "execution_count": 48,
   "id": "a61438cc",
   "metadata": {},
   "outputs": [
    {
     "name": "stdout",
     "output_type": "stream",
     "text": [
      "En iyi Ridge Regresyon R2 Skoru: 0.4130503227387309\n",
      "En iyi alpha değeri: 100\n"
     ]
    }
   ],
   "source": [
    "from sklearn.model_selection import GridSearchCV\n",
    "\n",
    "# Ridge regresyon modeli\n",
    "ridge_model = Ridge()\n",
    "\n",
    "# Denecek alpha değerleri\n",
    "alpha_values = [0.001, 0.01, 0.1, 1, 10, 100, 1000]\n",
    "\n",
    "# Grid Search için parametreler\n",
    "param_grid = {'alpha': alpha_values}\n",
    "\n",
    "# Grid Search modelini oluştur ve uygula\n",
    "grid_search = GridSearchCV(ridge_model, param_grid, cv=5, scoring='r2')\n",
    "grid_search.fit(X_train, y_train)\n",
    "\n",
    "# En iyi alpha değeri\n",
    "best_alpha = grid_search.best_params_['alpha']\n",
    "\n",
    "# En iyi modeli kullanarak tahmin yap\n",
    "y_pred_ridge_best = grid_search.predict(X_test)\n",
    "\n",
    "# En iyi R2 skorunu hesapla\n",
    "ridge_r2_score_best = r2_score(y_test, y_pred_ridge_best)\n",
    "\n",
    "print(\"En iyi Ridge Regresyon R2 Skoru:\", ridge_r2_score_best)\n",
    "print(\"En iyi alpha değeri:\", best_alpha)"
   ]
  },
  {
   "cell_type": "code",
   "execution_count": null,
   "id": "a5baf4b0",
   "metadata": {},
   "outputs": [],
   "source": [
    "\n"
   ]
  },
  {
   "cell_type": "code",
   "execution_count": null,
   "id": "5fa0db30",
   "metadata": {},
   "outputs": [],
   "source": []
  }
 ],
 "metadata": {
  "kernelspec": {
   "display_name": "Python 3 (ipykernel)",
   "language": "python",
   "name": "python3"
  },
  "language_info": {
   "codemirror_mode": {
    "name": "ipython",
    "version": 3
   },
   "file_extension": ".py",
   "mimetype": "text/x-python",
   "name": "python",
   "nbconvert_exporter": "python",
   "pygments_lexer": "ipython3",
   "version": "3.11.5"
  }
 },
 "nbformat": 4,
 "nbformat_minor": 5
}
